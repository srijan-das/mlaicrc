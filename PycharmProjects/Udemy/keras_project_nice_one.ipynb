{
  "nbformat": 4,
  "nbformat_minor": 0,
  "metadata": {
    "colab": {
      "name": "keras-project-nice-one.ipynb",
      "provenance": [],
      "mount_file_id": "1mHE60j0Qn1GvxOu0AeFCmNtDZKhivk8i",
      "authorship_tag": "ABX9TyO9vqnSL3W1dr5wRcFoMZna",
      "include_colab_link": true
    },
    "kernelspec": {
      "name": "python3",
      "display_name": "Python 3"
    }
  },
  "cells": [
    {
      "cell_type": "markdown",
      "metadata": {
        "id": "view-in-github",
        "colab_type": "text"
      },
      "source": [
        "<a href=\"https://colab.research.google.com/github/srijan-das/mlaicrc/blob/master/PycharmProjects/Udemy/keras_project_nice_one.ipynb\" target=\"_parent\"><img src=\"https://colab.research.google.com/assets/colab-badge.svg\" alt=\"Open In Colab\"/></a>"
      ]
    },
    {
      "cell_type": "code",
      "metadata": {
        "id": "lymsFqVxWbDH",
        "colab_type": "code",
        "colab": {}
      },
      "source": [
        "import pandas as pd\n",
        "import numpy as np\n",
        "import seaborn as sns\n",
        "import matplotlib.pyplot as plt\n",
        "\n",
        "df = pd.read_csv('/content/drive/My Drive/lending_club_loan_two.csv')\n",
        "'''\n",
        "print(df.head())\n",
        "print(df.info())\n",
        "print(df.columns)\n",
        "'''\n",
        "\n",
        "#target label --> loan_status\n",
        "'''\n",
        "print(df['loan_status'])\n",
        "'''\n",
        "df = pd.get_dummies(data=df, columns=['loan_status'], drop_first=True)\n",
        "#print(df.info())\n",
        "'''\n",
        "sns.heatmap(df.corr(), annot=True)\n",
        "plt.show()\n",
        "'''\n",
        "\n",
        "df = df.drop('installment', axis=1)\n",
        "\n",
        "#print(df.info())\n",
        "\n",
        "df['pub_rec_bankruptcies'] = df['pub_rec_bankruptcies'].fillna(0)\n",
        "\n",
        "#print(df['pub_rec_bankruptcies'].value_counts())\n",
        "#print(df.info())\n",
        "\n",
        "#print(df['mort_acc'].value_counts())\n",
        "\n",
        "df['mort_acc'] = df['mort_acc'].fillna(0)\n",
        "\n",
        "#print(df.info())\n",
        "\n",
        "#print(df['application_type'].value_counts())\n",
        "\n",
        "df = pd.get_dummies(df, columns=['application_type'], drop_first=True)\n",
        "\n",
        "#print(df.info())\n",
        "\n",
        "#print(df['initial_list_status'].value_counts())\n",
        "\n",
        "df = pd.get_dummies(df, columns=['initial_list_status'], drop_first=True)\n",
        "\n",
        "#print(df.info())\n",
        "\n",
        "#print(df['earliest_cr_line'].value_counts())\n",
        "\n",
        "#print(type(df['earliest_cr_line'][1]))\n",
        "#print(df['earliest_cr_line'][1].split('-')[-1])\n",
        "\n",
        "def year_getter(stuff) :\n",
        "    stuff = stuff.split('-')\n",
        "    return int(stuff[-1])\n",
        "\n",
        "#print(year_getter(df['earliest_cr_line'][1]))\n",
        "\n",
        "#print(df['earliest_cr_line'].apply(year_getter))\n",
        "\n",
        "df['earliest_cr_line'] = df['earliest_cr_line'].apply(year_getter)\n",
        "\n",
        "#print(df['earliest_cr_line'])\n",
        "\n",
        "#print(df.info())\n",
        "\n",
        "#print(df['title'].value_counts())\n",
        "\n",
        "df = df.drop('title', axis=1)\n",
        "\n",
        "#print(df.info())\n",
        "\n",
        "#print(df['purpose'].value_counts()) Might wannna work more on this\n",
        "\n",
        "df = df.drop('purpose', axis=1)\n",
        "\n",
        "#print(df['issue_d'].value_counts())\n",
        "\n",
        "df['issue_d'] = df['issue_d'].apply(year_getter)\n",
        "\n",
        "#print(df['verification_status'].value_counts())\n",
        "\n",
        "df = pd.get_dummies(df, columns=['verification_status'], drop_first=True)\n",
        "\n",
        "#print(df['home_ownership'].value_counts())\n",
        "\n",
        "df = pd.get_dummies(df, columns=['home_ownership'], drop_first=True)\n",
        "\n",
        "#print(df['emp_length'].value_counts())\n",
        "\n",
        "df = pd.get_dummies(df, columns=['emp_length'], drop_first=True)\n",
        "\n",
        "#print(df['emp_title'].value_counts())\n",
        "\n",
        "df = df.drop(labels=['emp_title'], axis=1)\n",
        "\n",
        "#print(df['revol_util'].value_counts())\n",
        "\n",
        "df['revol_util'] = df['revol_util'].fillna(df['revol_util'].mean())\n",
        "\n",
        "#print(df['term'].value_counts())\n",
        "\n",
        "df = pd.get_dummies(df, columns=['term'], drop_first=True)\n",
        "\n",
        "#print(df['sub_grade'].value_counts())\n",
        "\n",
        "df = df.drop(labels=['sub_grade'], axis=1)\n",
        "df = pd.get_dummies(df, columns=['grade'], drop_first=True)\n",
        "\n",
        "#print(df['address'][1])\n",
        "\n",
        "df = df.drop(labels=['address'], axis=1)\n",
        "\n",
        "#print(df.info())\n",
        "\n",
        "'''\n",
        "Data Cleaning over\n",
        "target label --> loan_status_Fully Paid\n",
        "'''\n",
        "\n",
        "#print(df.head())\n",
        "'''\n",
        "sns.heatmap(df.corr(), annot=False)\n",
        "plt.show()\n",
        "'''\n",
        "def feature_selector(data) :\n",
        "    col_names = list(df.columns)\n",
        "    names = list()\n",
        "    corrs = df.corr()['loan_status_Fully Paid']\n",
        "    for i in range(0, len(col_names)) :\n",
        "        if abs(corrs[i]) < 0.0026 :\n",
        "            names.append(col_names[i])\n",
        "    return df.drop(labels=names, axis=1)\n",
        "\n",
        "df = feature_selector(df)\n",
        "\n",
        "#print(df.info())\n",
        "\n",
        "X = df.drop('loan_status_Fully Paid', axis=1).values\n",
        "y = df['loan_status_Fully Paid'].values\n",
        "\n",
        "from sklearn.model_selection import train_test_split\n",
        "\n",
        "X_train, X_test, y_train, y_test = train_test_split(X, y, test_size=0.25)\n",
        "\n",
        "from sklearn.preprocessing import MinMaxScaler\n",
        "\n",
        "scaler = MinMaxScaler()\n",
        "\n",
        "X_train = scaler.fit_transform(X_train)\n",
        "X_test = scaler.transform(X_test)\n",
        "\n",
        "from tensorflow.keras import Sequential\n",
        "from tensorflow.keras.layers import Dense, Dropout"
      ],
      "execution_count": 0,
      "outputs": []
    },
    {
      "cell_type": "code",
      "metadata": {
        "id": "CPe1T1bdWz6F",
        "colab_type": "code",
        "colab": {
          "base_uri": "https://localhost:8080/",
          "height": 34
        },
        "outputId": "210e27be-83a1-4031-9970-c74ba437ab03"
      },
      "source": [
        "X_train.shape"
      ],
      "execution_count": 8,
      "outputs": [
        {
          "output_type": "execute_result",
          "data": {
            "text/plain": [
              "(297022, 31)"
            ]
          },
          "metadata": {
            "tags": []
          },
          "execution_count": 8
        }
      ]
    },
    {
      "cell_type": "code",
      "metadata": {
        "id": "2ctCHU9hXFPY",
        "colab_type": "code",
        "colab": {}
      },
      "source": [
        "model = Sequential()\n",
        "\n",
        "model.add(Dense(31, activation='relu'))\n",
        "model.add(Dropout(0.4))\n",
        "\n",
        "model.add(Dense(units=16, activation='relu'))\n",
        "model.add(Dropout(0.4))\n",
        "\n",
        "model.add(Dense(units=7, activation='relu'))\n",
        "model.add(Dropout(0.4))\n",
        "\n",
        "model.add(Dense(units=4, activation='relu'))\n",
        "model.add(Dropout(0.5))\n",
        "\n",
        "model.add(Dense(units=2, activation='relu'))\n",
        "\n",
        "model.add(Dense(units=1, activation='sigmoid'))\n",
        "\n",
        "model.compile(loss='binary_crossentropy', optimizer='adam')"
      ],
      "execution_count": 0,
      "outputs": []
    },
    {
      "cell_type": "code",
      "metadata": {
        "id": "Rkwy6LnYX2nQ",
        "colab_type": "code",
        "colab": {}
      },
      "source": [
        "from tensorflow.keras.callbacks import EarlyStopping"
      ],
      "execution_count": 0,
      "outputs": []
    },
    {
      "cell_type": "code",
      "metadata": {
        "id": "c6iRFMt4YEy9",
        "colab_type": "code",
        "colab": {}
      },
      "source": [
        "early_stop = EarlyStopping(monitor='val_loss', patience=25, verbose=1, mode='min', restore_best_weights=True)"
      ],
      "execution_count": 0,
      "outputs": []
    },
    {
      "cell_type": "code",
      "metadata": {
        "id": "UyYbGjR_YUuM",
        "colab_type": "code",
        "colab": {
          "base_uri": "https://localhost:8080/",
          "height": 1000
        },
        "outputId": "be03ee4c-957d-431f-e61c-0a4294d38dca"
      },
      "source": [
        "model.fit(x=X_train, y=y_train, batch_size=256, epochs=500, verbose=1, callbacks=[early_stop], validation_data=(X_test, y_test))"
      ],
      "execution_count": 12,
      "outputs": [
        {
          "output_type": "stream",
          "text": [
            "Train on 297022 samples, validate on 99008 samples\n",
            "Epoch 1/500\n",
            "297022/297022 [==============================] - 4s 14us/sample - loss: 0.5831 - val_loss: 0.5182\n",
            "Epoch 2/500\n",
            "297022/297022 [==============================] - 4s 13us/sample - loss: 0.5024 - val_loss: 0.4906\n",
            "Epoch 3/500\n",
            "297022/297022 [==============================] - 4s 13us/sample - loss: 0.4863 - val_loss: 0.4827\n",
            "Epoch 4/500\n",
            "297022/297022 [==============================] - 4s 13us/sample - loss: 0.4808 - val_loss: 0.4787\n",
            "Epoch 5/500\n",
            "297022/297022 [==============================] - 4s 13us/sample - loss: 0.4795 - val_loss: 0.4783\n",
            "Epoch 6/500\n",
            "297022/297022 [==============================] - 4s 13us/sample - loss: 0.4779 - val_loss: 0.4745\n",
            "Epoch 7/500\n",
            "297022/297022 [==============================] - 4s 13us/sample - loss: 0.4774 - val_loss: 0.4741\n",
            "Epoch 8/500\n",
            "297022/297022 [==============================] - 4s 13us/sample - loss: 0.4767 - val_loss: 0.4752\n",
            "Epoch 9/500\n",
            "297022/297022 [==============================] - 4s 13us/sample - loss: 0.4766 - val_loss: 0.4744\n",
            "Epoch 10/500\n",
            "297022/297022 [==============================] - 4s 13us/sample - loss: 0.4761 - val_loss: 0.4717\n",
            "Epoch 11/500\n",
            "297022/297022 [==============================] - 4s 13us/sample - loss: 0.4750 - val_loss: 0.4737\n",
            "Epoch 12/500\n",
            "297022/297022 [==============================] - 4s 12us/sample - loss: 0.4748 - val_loss: 0.4724\n",
            "Epoch 13/500\n",
            "297022/297022 [==============================] - 4s 13us/sample - loss: 0.4747 - val_loss: 0.4735\n",
            "Epoch 14/500\n",
            "297022/297022 [==============================] - 4s 13us/sample - loss: 0.4744 - val_loss: 0.4733\n",
            "Epoch 15/500\n",
            "297022/297022 [==============================] - 4s 12us/sample - loss: 0.4746 - val_loss: 0.4720\n",
            "Epoch 16/500\n",
            "297022/297022 [==============================] - 4s 13us/sample - loss: 0.4738 - val_loss: 0.4723\n",
            "Epoch 17/500\n",
            "297022/297022 [==============================] - 4s 13us/sample - loss: 0.4743 - val_loss: 0.4725\n",
            "Epoch 18/500\n",
            "297022/297022 [==============================] - 4s 13us/sample - loss: 0.4740 - val_loss: 0.4752\n",
            "Epoch 19/500\n",
            "297022/297022 [==============================] - 4s 13us/sample - loss: 0.4739 - val_loss: 0.4747\n",
            "Epoch 20/500\n",
            "297022/297022 [==============================] - 4s 13us/sample - loss: 0.4736 - val_loss: 0.4738\n",
            "Epoch 21/500\n",
            "297022/297022 [==============================] - 4s 13us/sample - loss: 0.4732 - val_loss: 0.4724\n",
            "Epoch 22/500\n",
            "297022/297022 [==============================] - 4s 14us/sample - loss: 0.4735 - val_loss: 0.4729\n",
            "Epoch 23/500\n",
            "297022/297022 [==============================] - 4s 13us/sample - loss: 0.4736 - val_loss: 0.4699\n",
            "Epoch 24/500\n",
            "297022/297022 [==============================] - 4s 13us/sample - loss: 0.4737 - val_loss: 0.4736\n",
            "Epoch 25/500\n",
            "297022/297022 [==============================] - 4s 13us/sample - loss: 0.4735 - val_loss: 0.4687\n",
            "Epoch 26/500\n",
            "297022/297022 [==============================] - 4s 13us/sample - loss: 0.4736 - val_loss: 0.4735\n",
            "Epoch 27/500\n",
            "297022/297022 [==============================] - 4s 13us/sample - loss: 0.4737 - val_loss: 0.4716\n",
            "Epoch 28/500\n",
            "297022/297022 [==============================] - 4s 13us/sample - loss: 0.4731 - val_loss: 0.4707\n",
            "Epoch 29/500\n",
            "297022/297022 [==============================] - 4s 13us/sample - loss: 0.4736 - val_loss: 0.4709\n",
            "Epoch 30/500\n",
            "297022/297022 [==============================] - 4s 13us/sample - loss: 0.4733 - val_loss: 0.4737\n",
            "Epoch 31/500\n",
            "297022/297022 [==============================] - 4s 12us/sample - loss: 0.4728 - val_loss: 0.4733\n",
            "Epoch 32/500\n",
            "297022/297022 [==============================] - 3s 12us/sample - loss: 0.4729 - val_loss: 0.4730\n",
            "Epoch 33/500\n",
            "297022/297022 [==============================] - 3s 11us/sample - loss: 0.4734 - val_loss: 0.4723\n",
            "Epoch 34/500\n",
            "297022/297022 [==============================] - 3s 12us/sample - loss: 0.4729 - val_loss: 0.4725\n",
            "Epoch 35/500\n",
            "297022/297022 [==============================] - 4s 13us/sample - loss: 0.4728 - val_loss: 0.4721\n",
            "Epoch 36/500\n",
            "297022/297022 [==============================] - 4s 13us/sample - loss: 0.4725 - val_loss: 0.4728\n",
            "Epoch 37/500\n",
            "297022/297022 [==============================] - 4s 13us/sample - loss: 0.4727 - val_loss: 0.4722\n",
            "Epoch 38/500\n",
            "297022/297022 [==============================] - 4s 13us/sample - loss: 0.4734 - val_loss: 0.4729\n",
            "Epoch 39/500\n",
            "297022/297022 [==============================] - 4s 13us/sample - loss: 0.4730 - val_loss: 0.4703\n",
            "Epoch 40/500\n",
            "297022/297022 [==============================] - 4s 13us/sample - loss: 0.4727 - val_loss: 0.4718\n",
            "Epoch 41/500\n",
            "297022/297022 [==============================] - 4s 13us/sample - loss: 0.4730 - val_loss: 0.4717\n",
            "Epoch 42/500\n",
            "297022/297022 [==============================] - 4s 13us/sample - loss: 0.4723 - val_loss: 0.4711\n",
            "Epoch 43/500\n",
            "297022/297022 [==============================] - 4s 13us/sample - loss: 0.4723 - val_loss: 0.4721\n",
            "Epoch 44/500\n",
            "297022/297022 [==============================] - 4s 13us/sample - loss: 0.4733 - val_loss: 0.4727\n",
            "Epoch 45/500\n",
            "297022/297022 [==============================] - 4s 13us/sample - loss: 0.4728 - val_loss: 0.4717\n",
            "Epoch 46/500\n",
            "297022/297022 [==============================] - 4s 13us/sample - loss: 0.4725 - val_loss: 0.4705\n",
            "Epoch 47/500\n",
            "297022/297022 [==============================] - 4s 13us/sample - loss: 0.4725 - val_loss: 0.4728\n",
            "Epoch 48/500\n",
            "297022/297022 [==============================] - 4s 13us/sample - loss: 0.4722 - val_loss: 0.4691\n",
            "Epoch 49/500\n",
            "297022/297022 [==============================] - 4s 13us/sample - loss: 0.4732 - val_loss: 0.4717\n",
            "Epoch 50/500\n",
            "294144/297022 [============================>.] - ETA: 0s - loss: 0.4726Restoring model weights from the end of the best epoch.\n",
            "297022/297022 [==============================] - 4s 13us/sample - loss: 0.4727 - val_loss: 0.4694\n",
            "Epoch 00050: early stopping\n"
          ],
          "name": "stdout"
        },
        {
          "output_type": "execute_result",
          "data": {
            "text/plain": [
              "<tensorflow.python.keras.callbacks.History at 0x7fc82a990eb8>"
            ]
          },
          "metadata": {
            "tags": []
          },
          "execution_count": 12
        }
      ]
    },
    {
      "cell_type": "code",
      "metadata": {
        "id": "KhYFEMuUZJkZ",
        "colab_type": "code",
        "colab": {
          "base_uri": "https://localhost:8080/",
          "height": 299
        },
        "outputId": "53764eb5-3fae-4eab-c8ef-808839516df0"
      },
      "source": [
        "losses = pd.DataFrame(model.history.history)\n",
        "plt.figure(figsize=(15,5))\n",
        "losses.plot()"
      ],
      "execution_count": 13,
      "outputs": [
        {
          "output_type": "execute_result",
          "data": {
            "text/plain": [
              "<matplotlib.axes._subplots.AxesSubplot at 0x7fc82e2953c8>"
            ]
          },
          "metadata": {
            "tags": []
          },
          "execution_count": 13
        },
        {
          "output_type": "display_data",
          "data": {
            "text/plain": [
              "<Figure size 1080x360 with 0 Axes>"
            ]
          },
          "metadata": {
            "tags": []
          }
        },
        {
          "output_type": "display_data",
          "data": {
            "image/png": "[encoded data removed]",
            "text/plain": [
              "<Figure size 432x288 with 1 Axes>"
            ]
          },
          "metadata": {
            "tags": []
          }
        }
      ]
    },
    {
      "cell_type": "code",
      "metadata": {
        "id": "5nXtNhFjcfAa",
        "colab_type": "code",
        "colab": {}
      },
      "source": [
        "predictions = model.predict_classes(X_test)"
      ],
      "execution_count": 0,
      "outputs": []
    },
    {
      "cell_type": "code",
      "metadata": {
        "id": "hGjVfmH0cjlz",
        "colab_type": "code",
        "colab": {}
      },
      "source": [
        "from sklearn.metrics import classification_report, confusion_matrix"
      ],
      "execution_count": 0,
      "outputs": []
    },
    {
      "cell_type": "code",
      "metadata": {
        "id": "ckQDKl25cn7y",
        "colab_type": "code",
        "colab": {
          "base_uri": "https://localhost:8080/",
          "height": 258
        },
        "outputId": "d9e391f4-1ddc-4863-a0b5-38f398d78914"
      },
      "source": [
        "print(classification_report(y_test, predictions))\n",
        "print(confusion_matrix(y_test, predictions))"
      ],
      "execution_count": 16,
      "outputs": [
        {
          "output_type": "stream",
          "text": [
            "/usr/local/lib/python3.6/dist-packages/sklearn/metrics/_classification.py:1272: UndefinedMetricWarning: Precision and F-score are ill-defined and being set to 0.0 in labels with no predicted samples. Use `zero_division` parameter to control this behavior.\n",
            "  _warn_prf(average, modifier, msg_start, len(result))\n"
          ],
          "name": "stderr"
        },
        {
          "output_type": "stream",
          "text": [
            "              precision    recall  f1-score   support\n",
            "\n",
            "           0       0.00      0.00      0.00     19322\n",
            "           1       0.80      1.00      0.89     79686\n",
            "\n",
            "    accuracy                           0.80     99008\n",
            "   macro avg       0.40      0.50      0.45     99008\n",
            "weighted avg       0.65      0.80      0.72     99008\n",
            "\n",
            "[[    0 19322]\n",
            " [    0 79686]]\n"
          ],
          "name": "stdout"
        }
      ]
    },
    {
      "cell_type": "code",
      "metadata": {
        "id": "VuEjuHY-csen",
        "colab_type": "code",
        "colab": {}
      },
      "source": [
        ""
      ],
      "execution_count": 0,
      "outputs": []
    }
  ]
}